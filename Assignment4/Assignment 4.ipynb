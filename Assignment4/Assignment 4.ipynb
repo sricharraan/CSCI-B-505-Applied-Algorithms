{
 "cells": [
  {
   "cell_type": "markdown",
   "metadata": {},
   "source": [
    "# Homework 4\n",
    "\n",
    "#### Partners:\n",
    "Sricharraan Ramaswamy(UID : 2000855651) - sriramas@iu.edu\n",
    "\n",
    "Lalith Dupathi(UID : 2000865688)- ndupathi@iu.edu\n",
    "\n",
    "This work is solely ours(i.e. me and my partner) and the whole work was done in each others presence"
   ]
  },
  {
   "cell_type": "markdown",
   "metadata": {},
   "source": [
    "# Question 1\n",
    "\n",
    "The algorithm we have used to find whether D1 is same as D2 has a time complexity of O(n<sub>D1</sub>+n<sub>D2</sub>) where n is the input size of the list \n",
    "\n",
    "We have used set() function which does not store two equal elements and the code for the same is given below."
   ]
  },
  {
   "cell_type": "code",
   "execution_count": 1,
   "metadata": {},
   "outputs": [
    {
     "name": "stdout",
     "output_type": "stream",
     "text": [
      "Sets do not contain the same set of Elements\n"
     ]
    }
   ],
   "source": [
    "D1 =[7,4,3,2,5,7,6]\n",
    "D2 =[2,4,5,6,1,3,2,9]\n",
    "s = set()\n",
    "s2 = set()\n",
    "b = True\n",
    "for i in range(len(D1)):\n",
    "    if(D1[i] not in s):\n",
    "        s.add(D1[i])\n",
    "for i in range(len(D2)):\n",
    "    if(D2[i] not in s):\n",
    "        if(D2[i] not in s2):\n",
    "            print(\"Sets do not contain the same set of Elements\")\n",
    "            b=False\n",
    "            break\n",
    "    else:\n",
    "        s.remove(D2[i])\n",
    "        s2.add(D2[i])\n",
    "if b==True:\n",
    "    print(\"Sets contain the same set of Elements\")"
   ]
  },
  {
   "cell_type": "markdown",
   "metadata": {},
   "source": [
    "# Question 2"
   ]
  },
  {
   "cell_type": "markdown",
   "metadata": {},
   "source": [
    "The array D has n integers in the range from 0 to n<sup>2</sup> - 1, we can infer that the *Radix Sort* algorithm should be used to sort these elements in O(n) time.\n",
    "\n",
    "The average complexity for radix sort is O(d(n+k)) where k is the base to represent numbers. \n",
    "\n",
    "For example,for decimal systems k will be 10 \n",
    "\n",
    "If the maximum value is Q then we can infer that the value of d would be O(log<sub>k</sub>(Q)). \n",
    "\n",
    "Hence, time complexity is O((n+k) * log<sub>k</sub>(Q)). \n",
    "\n",
    "Now let's assume that Q is less than n<sup>2</sup> then the complexity becomes O(nlog<sub>k</sub>(n)). \n",
    "\n",
    "Now, let k be same as n then we get time complexity as O(n). \n",
    "\n",
    "Therefore, we can sort array from 0 to n<sup>2</sup> - 1 if numbers are represented in base n.\n",
    "\n",
    "Therefore O(n) complexity will be for input n = 9 i.e 9 numbers from 0 - 80."
   ]
  },
  {
   "cell_type": "markdown",
   "metadata": {},
   "source": [
    "# Question 3"
   ]
  },
  {
   "cell_type": "markdown",
   "metadata": {},
   "source": [
    "The algorithm we have used to find whether there are two equal elements in D has a time complexity of O(n). We have used set() function which does not store two equal elements and the code for the same is given below."
   ]
  },
  {
   "cell_type": "code",
   "execution_count": 30,
   "metadata": {},
   "outputs": [
    {
     "name": "stdout",
     "output_type": "stream",
     "text": [
      "The set contains equal element\n"
     ]
    }
   ],
   "source": [
    "D=[7,4,3,2,5,7,6]\n",
    "condition = True\n",
    "\n",
    "s = set()              #as set does not store duplicates\n",
    "for i in range(len(D)):\n",
    "    if(D[i] in s):\n",
    "        condition = False\n",
    "        print(\"The set contains equal element\")\n",
    "        break\n",
    "    else:\n",
    "        s.add(D[i])\n",
    "if(condition == True):\n",
    "    print(\"There are no equal elements in the set\")"
   ]
  },
  {
   "cell_type": "markdown",
   "metadata": {},
   "source": [
    "# Question 4\n",
    "\n",
    "##### Merge Sort:\n",
    "\n",
    " ##### Type of Input                              vs Time\n",
    " \n",
    "     Sorted List(Ascending)         0.00016443100003016298\n",
    "     \n",
    "     Sorted List(Descending)        0.0001450990002922481\n",
    "     \n",
    "     Unsorted List(Random)          0.00034657900005186093\n",
    "     \n",
    "We have used divide and conquer technique where the input is divided into different queues and we repeatedly started merging pairs of queues until all elements are sorted within a single queue."
   ]
  },
  {
   "cell_type": "code",
   "execution_count": 34,
   "metadata": {},
   "outputs": [
    {
     "name": "stdout",
     "output_type": "stream",
     "text": [
      "[1, 2, 3, 4, 5, 6, 7, 8, 9, 10]\n",
      "deque([deque([1, 2, 3, 4, 5, 6, 7, 8, 9, 10])])\n",
      "Execution time is(Ascending order): 0.00016443100003016298\n",
      "[10, 9, 8, 7, 6, 5, 4, 3, 2, 1]\n",
      "deque([deque([1, 2, 3, 4, 5, 6, 7, 8, 9, 10])])\n",
      "Execution time is(descending order): 0.0001450990002922481\n",
      "[10, 1, 9, 2, 8, 3, 7, 4, 6, 5]\n",
      "deque([deque([1, 2, 3, 4, 5, 6, 7, 8, 9, 10])])\n",
      "Execution time is(Random order): 0.00034657900005186093\n"
     ]
    }
   ],
   "source": [
    "from collections import deque\n",
    "def merge_sort_queue(A):  \n",
    "    q = deque()\n",
    "    for i in A:\n",
    "        qu = deque()\n",
    "        qu.append(i)\n",
    "        q.append(qu)\n",
    "    if len(A) == 0:\n",
    "        return 0\n",
    "    else:\n",
    "        while len(q) != 1:\n",
    "            x = sorted_func(q.popleft(),q.popleft())\n",
    "            q.append(x)\n",
    "    return(q)\n",
    "\n",
    "def sorted_func(A,B):\n",
    "    temp = deque()\n",
    "    while (len(A)>0 and len(B)>0):\n",
    "        a,b = A[0],B[0]\n",
    "        if a < b:\n",
    "            temp.append(a)\n",
    "            A.popleft()\n",
    "        else:\n",
    "            temp.append(b)\n",
    "            B.popleft()\n",
    "    while len(A) > 0:\n",
    "        temp.append(A.popleft())\n",
    "        \n",
    "    while len(B) > 0:\n",
    "        temp.append(B.popleft())    \n",
    "    return temp\n",
    "\n",
    "A =[1,2,3,4,5,6,7,8,9,10]\n",
    "print(A)\n",
    "start = timeit.default_timer()\n",
    "print(merge_sort_queue(A))\n",
    "end = timeit.default_timer()\n",
    "print (\"Execution time is(Ascending order): {}\".format(end - start))\n",
    "\n",
    "A = [10,9,8,7,6,5,4,3,2,1]\n",
    "print(A)\n",
    "start = timeit.default_timer()\n",
    "print(merge_sort_queue(A))\n",
    "end = timeit.default_timer()\n",
    "print (\"Execution time is(descending order): {}\".format(end - start))\n",
    "\n",
    "A =[10,1,9,2,8,3,7,4,6,5]\n",
    "print(A)\n",
    "start = timeit.default_timer()\n",
    "print(merge_sort_queue(A))\n",
    "end = timeit.default_timer()\n",
    "print (\"Execution time is(Random order): {}\".format(end - start))"
   ]
  },
  {
   "cell_type": "markdown",
   "metadata": {},
   "source": [
    "# Question 5\n",
    "\n",
    "##### Heap Analysis:\n",
    "\n",
    " ##### Type of Input                              vs Time\n",
    " \n",
    "     Sorted List(Ascending)        0.00015636500000937303\n",
    "     \n",
    "     Sorted List(Descending)        0.0002450130000113404\n",
    "     \n",
    "     Unsorted List(Random)          7.865699998887976e-05\n",
    "     \n",
    "Heap sort visualizes the array's elements as a special type of complete binary tree known as a heap. Heapify procedure is used to convert the tree visual into a structure where the parent node is greater than the child nodes, then heapsort function is called to pop out the maximum element that is in the root of the node and runs heapify fuction again to get the max element in the root.\n",
    "\n",
    "This process continues till the whole of the array is sorted."
   ]
  },
  {
   "cell_type": "code",
   "execution_count": 4,
   "metadata": {},
   "outputs": [
    {
     "name": "stdout",
     "output_type": "stream",
     "text": [
      "[1, 2, 3, 4, 5, 6, 7, 8, 9]\n",
      "[1, 2, 3, 4, 5, 6, 7, 8, 9]\n",
      "Exeution Time (Ascending List): 0.00015636500000937303\n",
      "[10, 9, 8, 7, 6, 5, 4, 3, 2, 1]\n",
      "[1, 2, 3, 4, 5, 6, 7, 8, 9, 10]\n",
      "Exeution Time (Descending List): 0.0002450130000113404\n",
      "[10, 1, 9, 2, 8, 3, 7, 4, 6, 5]\n",
      "[1, 2, 3, 4, 5, 6, 7, 8, 9, 10]\n",
      "Exeution Time (Random List): 7.865699998887976e-05\n"
     ]
    }
   ],
   "source": [
    "import timeit\n",
    "# Heap Sort\n",
    "def heapsort(S):\n",
    "    size = len(S)\n",
    "    max_heap(S,size)\n",
    "    for i in range(size-1,-1,-1):\n",
    "        S[0], S[i] = S[i], S[0]\n",
    "        size = size - 1\n",
    "        S = max_heapify(S,size,0)\n",
    "    return S\n",
    "\n",
    "def max_heapify(S,n,i):\n",
    "    l = (2*i) + 1\n",
    "    r = (2*i) + 2\n",
    "    size = n\n",
    "    \n",
    "    if l<size and S[l]>S[i]:\n",
    "        largest = l\n",
    "    else: largest = i\n",
    "    \n",
    "    if r<size and S[r]>S[largest]:\n",
    "        largest = r\n",
    "    if largest != i:\n",
    "        S[largest], S[i] = S[i], S[largest]\n",
    "        max_heapify(S,n,largest)\n",
    "    return S\n",
    "\n",
    "def max_heap(S,size):\n",
    "    for i in range(int(size/2)-1,-1,-1):\n",
    "        max_heapify(S,size,i)\n",
    "        \n",
    "D=[1,2,3,4,5,6,7,8,9]\n",
    "print(D)\n",
    "start= timeit.default_timer()\n",
    "out=heapsort(D)\n",
    "end= timeit.default_timer()\n",
    "print(out)\n",
    "print(\"Exeution Time (Ascending List): {}\".format(end-start))\n",
    "\n",
    "D1=[10,9,8,7,6,5,4,3,2,1]\n",
    "print(D1)\n",
    "start= timeit.default_timer()\n",
    "out1=heapsort(D1)\n",
    "end= timeit.default_timer()\n",
    "print(out1)\n",
    "print(\"Exeution Time (Descending List): {}\".format(end-start))\n",
    "\n",
    "D2=[10,1,9,2,8,3,7,4,6,5]\n",
    "print(D2)\n",
    "start= timeit.default_timer()\n",
    "out2=heapsort(D2)\n",
    "end= timeit.default_timer()\n",
    "print(out2)\n",
    "print(\"Exeution Time (Random List): {}\".format(end-start))"
   ]
  },
  {
   "cell_type": "markdown",
   "metadata": {},
   "source": [
    "# Question 6\n",
    "\n",
    "\n",
    "##### Counting Sort Analysis:\n",
    "\n",
    " ##### Type of Input                              vs Time\n",
    " \n",
    "     Sorted List(Ascending)         6.532300000117175e-05\n",
    "     \n",
    "     Sorted List(Descending)        5.959800000709947e-05\n",
    "     \n",
    "     Unsorted List(Random)          0.00013883299834560603\n",
    "\n",
    "A counting sort is an algorithm that sorts an array's elements by counting the number of occurrences of each unique element in the array. The count is stored in an temp array, and sorting is accomplished by mapping the count to an index in the temp array."
   ]
  },
  {
   "cell_type": "code",
   "execution_count": 5,
   "metadata": {},
   "outputs": [
    {
     "name": "stdout",
     "output_type": "stream",
     "text": [
      "[1, 2, 3, 4, 5, 6, 7, 8, 9, 10]\n",
      "[1, 2, 3, 4, 5, 6, 7, 8, 9, 10]\n",
      "Exeution Time (Ascending List): 6.532300000117175e-05\n",
      "[10, 9, 8, 7, 6, 5, 4, 3, 2, 1]\n",
      "[1, 2, 3, 4, 5, 6, 7, 8, 9, 10]\n",
      "Exeution Time (Descending List): 5.959800000709947e-05\n",
      "[10, 1, 9, 2, 8, 3, 7, 4, 6, 5]\n",
      "[1, 2, 3, 4, 5, 6, 7, 8, 9, 10]\n",
      "Exeution Time (Random List): 5.687500001272383e-05\n"
     ]
    }
   ],
   "source": [
    "def countingsort(D):\n",
    "    B=[0 for x in range(len(D))]\n",
    "    k=max(D)+1\n",
    "    C=[0 for x in range(k)]\n",
    "    for j in range(len(D)):\n",
    "        C[D[j]]= C[D[j]] +1   \n",
    "    for i in range(1,len(C)):\n",
    "        C[i]=C[i]+C[i-1]\n",
    "    z=len(D)-1   \n",
    "    while z>=0:\n",
    "        B[C[D[z]]-1]=D[z]\n",
    "        C[D[z]]=C[D[z]]-1\n",
    "        z=z-1\n",
    "    return B\n",
    "\n",
    "D=[1,2,3,4,5,6,7,8,9,10]\n",
    "start= timeit.default_timer()\n",
    "out=countingsort(D)\n",
    "end= timeit.default_timer()\n",
    "print(D)\n",
    "print(out)\n",
    "print(\"Exeution Time (Ascending List): {}\".format(end-start))\n",
    "\n",
    "D1=[10,9,8,7,6,5,4,3,2,1]\n",
    "start= timeit.default_timer()\n",
    "out1=countingsort(D1)\n",
    "end= timeit.default_timer()\n",
    "print(D1)\n",
    "print(out1)\n",
    "print(\"Exeution Time (Descending List): {}\".format(end-start))\n",
    "\n",
    "D2=[10,1,9,2,8,3,7,4,6,5]\n",
    "start= timeit.default_timer()\n",
    "out2=countingsort(D2)\n",
    "end= timeit.default_timer()\n",
    "print(D2)\n",
    "print(out2)\n",
    "print(\"Exeution Time (Random List): {}\".format(end-start))"
   ]
  },
  {
   "cell_type": "markdown",
   "metadata": {},
   "source": [
    "# Question 7\n",
    "\n",
    "##### Bucket Sort Analysis:\n",
    "\n",
    " ##### Type of Input                              vs Time\n",
    " \n",
    "     Sorted List(Ascending)         8.119800000372379e-05\n",
    "     \n",
    "     Sorted List(Descending)       6.902900000227419e-05\n",
    "     \n",
    "     Unsorted List(Random)          6.445700000767829e-05\n",
    "\n",
    "Bucket Sort is an algorithm that divides an unsorted array of elements into buckets. The buckets are then sorted using insertion sort.The sorted buckets are added together to form a final sorted array."
   ]
  },
  {
   "cell_type": "code",
   "execution_count": 6,
   "metadata": {},
   "outputs": [
    {
     "name": "stdout",
     "output_type": "stream",
     "text": [
      "[0.1, 0.2, 0.3, 0.4, 0.5, 0.6, 0.7, 0.8, 0.9]\n",
      "[0.1, 0.2, 0.3, 0.4, 0.5, 0.6, 0.7, 0.8, 0.9]\n",
      "Exeution Time (Ascending List): 8.119800000372379e-05\n",
      "[0.9, 0.8, 0.7, 0.6, 0.5, 0.4, 0.3, 0.2, 0.1]\n",
      "[0.1, 0.2, 0.3, 0.4, 0.5, 0.6, 0.7, 0.8, 0.9]\n",
      "Exeution Time (Descending List): 6.902900000227419e-05\n",
      "[0.1, 0.9, 0.2, 0.8, 0.3, 0.7, 0.4, 0.6, 0.5]\n",
      "[0.1, 0.2, 0.3, 0.4, 0.5, 0.6, 0.7, 0.8, 0.9]\n",
      "Exeution Time (Random List): 6.445700000767829e-05\n"
     ]
    }
   ],
   "source": [
    "def insertionsort(z):\n",
    "    length=len(z)\n",
    "    for i in range(1,len(z)):\n",
    "        key=z[i]\n",
    "        j=i-1\n",
    "        while key<z[j] and j>=0:\n",
    "            z[j+1]=z[j]\n",
    "            j=j-1\n",
    "        z[j+1]=key\n",
    "\n",
    "def bucketsort(data):\n",
    "    length=len(data)\n",
    "    B=[[] for i in range(10)]\n",
    "    for x in data:\n",
    "        num=int(x*10)\n",
    "        B[num].append(x)\n",
    "    for x in B:\n",
    "        insertionsort(x)\n",
    "    k=0\n",
    "    for i in range(len(B)):\n",
    "        for j in range(len(B[i])):\n",
    "            data[k]=B[i][j]\n",
    "            k=k+1\n",
    "    return data\n",
    "\n",
    "D=[0.1,0.2,0.3,0.4,0.5,0.6,0.7,0.8,0.9]\n",
    "print(D)\n",
    "start= timeit.default_timer()\n",
    "out=bucketsort(D)\n",
    "end= timeit.default_timer()\n",
    "print(out)\n",
    "print(\"Exeution Time (Ascending List): {}\".format(end-start))\n",
    "\n",
    "D1=[0.9,0.8,0.7,0.6,0.5,0.4,0.3,0.2,0.1]\n",
    "print(D1)\n",
    "start= timeit.default_timer()\n",
    "out1=bucketsort(D1)\n",
    "end= timeit.default_timer()\n",
    "print(out1)\n",
    "print(\"Exeution Time (Descending List): {}\".format(end-start))\n",
    "\n",
    "D2=[0.1,0.9,0.2,0.8,0.3,0.7,0.4,0.6,0.5]\n",
    "print(D2)\n",
    "start= timeit.default_timer()\n",
    "out2=bucketsort(D2)\n",
    "end= timeit.default_timer()\n",
    "print(out2)\n",
    "print(\"Exeution Time (Random List): {}\".format(end-start))"
   ]
  }
 ],
 "metadata": {
  "kernelspec": {
   "display_name": "Python 3",
   "language": "python",
   "name": "python3"
  },
  "language_info": {
   "codemirror_mode": {
    "name": "ipython",
    "version": 3
   },
   "file_extension": ".py",
   "mimetype": "text/x-python",
   "name": "python",
   "nbconvert_exporter": "python",
   "pygments_lexer": "ipython3",
   "version": "3.7.6"
  }
 },
 "nbformat": 4,
 "nbformat_minor": 5
}
