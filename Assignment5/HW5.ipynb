{
 "cells": [
  {
   "cell_type": "markdown",
   "metadata": {},
   "source": [
    "# Assignment 5\n",
    "\n",
    "Partner - Nidhi Galgali\n",
    "\n",
    "This work is solely ours and the whole assignment was done in each other presence "
   ]
  },
  {
   "cell_type": "markdown",
   "metadata": {},
   "source": [
    "# Problem 1"
   ]
  },
  {
   "cell_type": "markdown",
   "metadata": {},
   "source": [
    "## Part 1"
   ]
  },
  {
   "cell_type": "markdown",
   "metadata": {},
   "source": [
    "D=\"AAAAAAB\"---> pattern found at the end of D\n",
    "P=\"AAB\"\n",
    "d=7\n",
    "p=3\n",
    "The brute-force method compares one character at a time to find a mismatch.\n",
    "The worst case scenario arises when there are p comparisons till the end of the text D is reached. In other words, each substring will have 3 comparisons. The total number of comparisons would be p(d-p+1).\n",
    "If the given pattern to be searched in at the end of the text D or is not present in D,the time complexity reults in Ω(dp)."
   ]
  },
  {
   "cell_type": "markdown",
   "metadata": {},
   "source": [
    "## Part 2"
   ]
  },
  {
   "cell_type": "code",
   "execution_count": 1,
   "metadata": {},
   "outputs": [],
   "source": [
    "def find_brute(T, P):\n",
    "    n, m = len(T), len(P)\n",
    "    # every starting position\n",
    "    for i in range(n-m+1):\n",
    "        k = 0\n",
    "        # conduct O(k) comparisons\n",
    "        while k < m and T[i+k] == P[k]:\n",
    "            k += 1\n",
    "        if k == m:\n",
    "            return T.count(P) # returns the count of non-overlapping substrings\n",
    "        \n",
    "    return -1"
   ]
  },
  {
   "cell_type": "code",
   "execution_count": 2,
   "metadata": {},
   "outputs": [],
   "source": [
    "def find_boyer_moore(T, P):\n",
    "    n, m = len(T), len(P)\n",
    "    if m == 0:\n",
    "        return 0\n",
    "    last = {}\n",
    "    for k in range(m):\n",
    "        last[P[k]] = k\n",
    "    i = m-1\n",
    "    k = m-1\n",
    "    while i < n:\n",
    "     # If match , decrease i,k\n",
    "        if T[i] == P[k]:\n",
    "            if k == 0:\n",
    "                return T.count(P)\n",
    "            else:\n",
    "                i -= 1\n",
    "                k -= 1\n",
    " # Not match , reset the positions\n",
    "        else:\n",
    "            j = last.get(T[i], -1)\n",
    "            i += m - min(k, j+1)\n",
    "            k = m-1\n",
    "    return -1\n",
    "\n"
   ]
  },
  {
   "cell_type": "code",
   "execution_count": 3,
   "metadata": {},
   "outputs": [],
   "source": [
    "# KMP failure function\n",
    "def compute_kmp_fail(P):\n",
    "    m = len(P)\n",
    "    fail = [0] * m\n",
    "    j = 1\n",
    "    k = 0\n",
    "    while j < m:\n",
    "        if P[j] == P[k]:\n",
    "            fail[j] = k+1\n",
    "            j += 1\n",
    "            k += 1\n",
    "        elif k > 0:\n",
    "            k = fail[k-1]\n",
    "        else:\n",
    "            j += 1\n",
    "    return fail"
   ]
  },
  {
   "cell_type": "code",
   "execution_count": 4,
   "metadata": {},
   "outputs": [
    {
     "name": "stdout",
     "output_type": "stream",
     "text": [
      "Number of non-overlapping occurences for brute-force method: 2\n",
      "Number of non-overlapping occurences for boyer-moore method: 2\n",
      "Number of non-overlapping occurences for kmp method: 2\n",
      "\n",
      "\n",
      "Number of non-overlapping occurences for brute-force method: 3\n",
      "Number of non-overlapping occurences for boyer-moore method: 3\n",
      "Number of non-overlapping occurences for kmp method: 3\n",
      "\n",
      "\n",
      "Number of non-overlapping occurences for brute-force method: 4\n",
      "Number of non-overlapping occurences for boyer-moore method: 4\n",
      "Number of non-overlapping occurences for kmp method: 4\n"
     ]
    }
   ],
   "source": [
    "#KMP\n",
    "def find_kmp(T, P):\n",
    "    n, m = len(T), len(P)\n",
    "    if m == 0:\n",
    "        return 0\n",
    "    fail = compute_kmp_fail(P)\n",
    "    # print(fail)\n",
    "    j = 0\n",
    "    k = 0\n",
    "    while j < n:\n",
    "        if T[j] == P[k]:\n",
    "            if k == m-1:\n",
    "                 return T.count(P)\n",
    "            j += 1\n",
    "            k += 1\n",
    "        elif k > 0:\n",
    "            k = fail[k-1]\n",
    "        else:\n",
    "            j += 1\n",
    "    return -1\n",
    "T=\"abdabfabacdefssfababac\"\n",
    "P=\"aba\"\n",
    "T1=\"abdabfabdcacdefssfabdcabdcac\"\n",
    "P1=\"abdc\"\n",
    "T2= \"1213451212178651231212121\"\n",
    "P2 = \"121\"\n",
    "print(\"Number of non-overlapping occurences for brute-force method:\",find_brute(T,P))\n",
    "print(\"Number of non-overlapping occurences for boyer-moore method:\",find_boyer_moore(T,P))\n",
    "print(\"Number of non-overlapping occurences for kmp method:\",find_kmp(T,P))\n",
    "print(\"\\n\")\n",
    "print(\"Number of non-overlapping occurences for brute-force method:\",find_brute(T1,P1))\n",
    "print(\"Number of non-overlapping occurences for boyer-moore method:\",find_boyer_moore(T1,P1))\n",
    "print(\"Number of non-overlapping occurences for kmp method:\",find_kmp(T1,P1))\n",
    "print(\"\\n\")\n",
    "print(\"Number of non-overlapping occurences for brute-force method:\",find_brute(T2,P2))\n",
    "print(\"Number of non-overlapping occurences for boyer-moore method:\",find_boyer_moore(T2,P2))\n",
    "print(\"Number of non-overlapping occurences for kmp method:\",find_kmp(T2,P2))"
   ]
  },
  {
   "cell_type": "markdown",
   "metadata": {},
   "source": [
    "# Problem 2"
   ]
  },
  {
   "cell_type": "code",
   "execution_count": 5,
   "metadata": {},
   "outputs": [],
   "source": [
    "#Citation from the laboratory exercise of week 11\n",
    "import random\n",
    "import time \n",
    "import string\n",
    "import matplotlib.pyplot as plt"
   ]
  },
  {
   "cell_type": "code",
   "execution_count": 6,
   "metadata": {},
   "outputs": [],
   "source": [
    "#Brute Force\n",
    "def find_brute(T, P):\n",
    "    n, m = len(T), len(P)\n",
    "    count = 0\n",
    "    # every starting position\n",
    "    for i in range(n-m+1):\n",
    "        k = 0\n",
    "        count+=1\n",
    "        # conduct O(k) comparisons\n",
    "        while k < m and T[i+k] == P[k]:\n",
    "            k += 1\n",
    "        if k == m:\n",
    "            return i,count\n",
    "    return -1,count"
   ]
  },
  {
   "cell_type": "code",
   "execution_count": 7,
   "metadata": {},
   "outputs": [],
   "source": [
    "#Boyer Moore\n",
    "def find_boyer_moore(T, P):\n",
    "    n, m = len(T), len(P)\n",
    "    count = 0\n",
    "    if m == 0: \n",
    "        return 0\n",
    "    last = {}\n",
    "    for k in range(m):\n",
    "        last[P[k]] = k\n",
    "    i = m-1\n",
    "    k = m-1\n",
    "    while i < n:\n",
    "        # If match, decrease i,k\n",
    "        count+=1\n",
    "        if T[i] == P[k]:\n",
    "            if k == 0:\n",
    "                return i,count\n",
    "            else:\n",
    "                i -= 1\n",
    "                k -= 1\n",
    "        # Not match, reset the positions\n",
    "        else:\n",
    "            j = last.get(T[i], -1)\n",
    "            i += m - min(k, j+1)\n",
    "            k = m-1\n",
    "    return -1,count"
   ]
  },
  {
   "cell_type": "code",
   "execution_count": 8,
   "metadata": {},
   "outputs": [],
   "source": [
    "# KMP failure function\n",
    "def compute_kmp_fail(P):\n",
    "    m = len(P)\n",
    "    fail = [0] * m\n",
    "    j = 1\n",
    "    k = 0\n",
    "    while j < m:\n",
    "        if P[j] == P[k]:\n",
    "            fail[j] = k+1\n",
    "            j += 1\n",
    "            k += 1\n",
    "        elif k > 0:\n",
    "            k = fail[k-1]\n",
    "        else: \n",
    "            j += 1\n",
    "    return fail"
   ]
  },
  {
   "cell_type": "code",
   "execution_count": 9,
   "metadata": {},
   "outputs": [],
   "source": [
    "# KMP\n",
    "def find_kmp(T, P):\n",
    "    n, m = len(T), len(P)\n",
    "    count = 0\n",
    "    if m == 0:\n",
    "        return 0\n",
    "    fail = compute_kmp_fail(P)\n",
    "    # print(fail)\n",
    "    j = 0\n",
    "    k = 0\n",
    "    while j < n:\n",
    "        count+=1\n",
    "        if T[j] == P[k]:\n",
    "            if k == m-1:\n",
    "                return j-m+1,count\n",
    "            j += 1\n",
    "            k += 1\n",
    "        elif k > 0:\n",
    "            k = fail[k-1]\n",
    "        else:\n",
    "            j += 1\n",
    "    return -1,count"
   ]
  },
  {
   "cell_type": "code",
   "execution_count": 10,
   "metadata": {},
   "outputs": [],
   "source": [
    "# compare the three algorithms\n",
    "def compare(T, P):\n",
    "    C1 = []\n",
    "    C2 = []\n",
    "    C3 = []\n",
    "    for i in range(len(P)-1):\n",
    "        \n",
    "        startTime = time.time()\n",
    "        index,c1 = find_brute(T[i], P[i])\n",
    "        endTime = time.time()\n",
    "        C1.append(c1)\n",
    "\n",
    "        startTime = time.time()\n",
    "        index,c2 = find_boyer_moore(T[i], P[i])\n",
    "        endTime = time.time()\n",
    "        C2.append(c2)\n",
    "\n",
    "        startTime = time.time()\n",
    "        index,c3 = find_kmp(T[i], P[i])\n",
    "        endTime = time.time()\n",
    "        C3.append(c3)\n",
    "    return C1,C2,C3"
   ]
  },
  {
   "cell_type": "markdown",
   "metadata": {},
   "source": [
    "## Part 1"
   ]
  },
  {
   "cell_type": "code",
   "execution_count": 11,
   "metadata": {},
   "outputs": [],
   "source": [
    "def generate_random_strings(letters, size):\n",
    "    return ''.join(random.choice(letters) for i in range(size))"
   ]
  },
  {
   "cell_type": "code",
   "execution_count": 12,
   "metadata": {},
   "outputs": [],
   "source": [
    "# set random seed so you will always get the same random_string\n",
    "random.seed(2000928377)\n",
    "# Play with letter_set\n",
    "letter_set = \"SRNG\"\n",
    "letter_set = string.ascii_letters\n",
    "\n",
    "random_string = generate_random_strings(letter_set, 10**4)\n",
    "#print(random_string)"
   ]
  },
  {
   "cell_type": "code",
   "execution_count": 13,
   "metadata": {},
   "outputs": [
    {
     "name": "stdout",
     "output_type": "stream",
     "text": [
      "[10001, 10001, 10001, 10001, 10001, 10001, 10001, 10001, 10001, 10001, 10001, 10001, 10001, 10001, 10001, 10001, 10001, 10001]\n",
      "[1066, 567, 392, 304, 274, 250, 241, 234, 222, 234, 262, 241, 240, 253, 254, 242, 299, 290]\n",
      "[10204, 10206, 10220, 10230, 10236, 10246, 10268, 10278, 10288, 10298, 10305, 10306, 10328, 10338, 10336, 10346, 10356, 10370]\n"
     ]
    }
   ],
   "source": [
    "m = []\n",
    "n = []\n",
    "k = []\n",
    "pattern = []\n",
    "test_string = []\n",
    "j = 0\n",
    "for i in range(10,200,10):\n",
    "    pattern.append(generate_random_strings(\"SRNG\", i))\n",
    "    # append pattern to the end of string\n",
    "    test_string.append(random_string + pattern[j])\n",
    "    j+=1\n",
    "m,n,k = compare(test_string, pattern)\n",
    "print(m)\n",
    "print(n)\n",
    "print(k)"
   ]
  },
  {
   "cell_type": "markdown",
   "metadata": {},
   "source": [
    "We can clearly see that the the no. of comparisons for different input size for each algorithm is different the KMP algorithm has the most amount of comparisons. the value is so large that the graph for the same seems to be linear."
   ]
  },
  {
   "cell_type": "code",
   "execution_count": 14,
   "metadata": {},
   "outputs": [
    {
     "data": {
      "text/plain": [
       "<matplotlib.legend.Legend at 0x7f80e54abd10>"
      ]
     },
     "execution_count": 14,
     "metadata": {},
     "output_type": "execute_result"
    },
    {
     "data": {
      "image/png": "[encoded data removed]",
      "text/plain": [
       "<Figure size 432x288 with 1 Axes>"
      ]
     },
     "metadata": {
      "needs_background": "light"
     },
     "output_type": "display_data"
    }
   ],
   "source": [
    "I = []\n",
    "for i in range(10,190,10):\n",
    "    I.append(i)\n",
    "plt.xlabel('Pattern size')\n",
    "plt.ylabel('No. of Comparisons')\n",
    "plt.title('No. of Comparisons versus Pattern size')\n",
    "plt.plot(I,m, color = 'b', label = 'Brute Force function')\n",
    "plt.plot(I,n, color = 'r', label = 'Boyer Moore function')\n",
    "plt.plot(I,k, color = 'g', label = 'KMP function')\n",
    "plt.legend()"
   ]
  },
  {
   "cell_type": "markdown",
   "metadata": {},
   "source": [
    "\n",
    "## Part 2 "
   ]
  },
  {
   "cell_type": "code",
   "execution_count": 15,
   "metadata": {},
   "outputs": [],
   "source": [
    "# compare the three algorithms\n",
    "def compare(T, P):\n",
    "    I1 = []\n",
    "    I2 = []\n",
    "    I3 = []\n",
    "    for i in range(len(P)-1):\n",
    "        \n",
    "        startTime = time.time()\n",
    "        index,c1 = find_brute(T[i], P[i])\n",
    "        endTime = time.time()\n",
    "        I1.append(endTime - startTime)\n",
    "\n",
    "        startTime = time.time()\n",
    "        index,c2 = find_boyer_moore(T[i], P[i])\n",
    "        endTime = time.time()\n",
    "        I2.append(endTime - startTime)\n",
    "\n",
    "        startTime = time.time()\n",
    "        index,c3 = find_kmp(T[i], P[i])\n",
    "        endTime = time.time()\n",
    "        I3.append(endTime - startTime)\n",
    "    return I1,I2,I3"
   ]
  },
  {
   "cell_type": "code",
   "execution_count": 16,
   "metadata": {},
   "outputs": [],
   "source": [
    "def generate_random_strings(letters, size):\n",
    "    return ''.join(random.choice(letters) for i in range(size))"
   ]
  },
  {
   "cell_type": "code",
   "execution_count": 17,
   "metadata": {},
   "outputs": [],
   "source": [
    "# set random seed so you will always get the same random_string\n",
    "random.seed(2000855651)\n",
    "# Play with letter_set\n",
    "letter_set = \"SRNG\"\n",
    "letter_set = string.ascii_letters\n",
    "\n",
    "random_string = generate_random_strings(letter_set, 10**7)\n",
    "#print(random_string)"
   ]
  },
  {
   "cell_type": "markdown",
   "metadata": {},
   "source": [
    "### Case 1: When pattern is added to the last of the random string "
   ]
  },
  {
   "cell_type": "code",
   "execution_count": 18,
   "metadata": {},
   "outputs": [],
   "source": [
    "m = []\n",
    "n = []\n",
    "k = []\n",
    "pattern = []\n",
    "test_string = []\n",
    "j = 0\n",
    "for i in range(10,200,10):\n",
    "    pattern.append(generate_random_strings(\"SRNG\", i))\n",
    "    # append pattern to the end of string\n",
    "    test_string.append(random_string + pattern[j])\n",
    "    j+=1\n",
    "m,n,k = compare(test_string, pattern)"
   ]
  },
  {
   "cell_type": "code",
   "execution_count": 19,
   "metadata": {},
   "outputs": [
    {
     "data": {
      "text/plain": [
       "<matplotlib.legend.Legend at 0x7f80e56ac3d0>"
      ]
     },
     "execution_count": 19,
     "metadata": {},
     "output_type": "execute_result"
    },
    {
     "data": {
      "image/png": "[encoded data removed]",
      "text/plain": [
       "<Figure size 432x288 with 1 Axes>"
      ]
     },
     "metadata": {
      "needs_background": "light"
     },
     "output_type": "display_data"
    }
   ],
   "source": [
    "I = []\n",
    "for i in range(10,190,10):\n",
    "    I.append(i)\n",
    "#plt.xscale('log')\n",
    "plt.yscale('log')\n",
    "plt.xlabel('Pattern size')\n",
    "plt.ylabel('Running time per pattern size')\n",
    "plt.title('Running time visualization of each algorithm when the pattern is added at the last')\n",
    "plt.plot(I,m, color = 'b', label = 'Brute Force function')\n",
    "plt.plot(I,n, color = 'r', label = 'Boyer Moore function')\n",
    "plt.plot(I,k, color = 'g', label = 'KMP function')\n",
    "plt.legend()"
   ]
  },
  {
   "cell_type": "markdown",
   "metadata": {},
   "source": [
    "When the pattern is at the last we can clearly see that boyer Moore gives use the fastest output and brute force & KMP algorithms almost take equal amount of time."
   ]
  },
  {
   "cell_type": "markdown",
   "metadata": {},
   "source": [
    "### Case 2: When the pattern is added before the random string "
   ]
  },
  {
   "cell_type": "code",
   "execution_count": 20,
   "metadata": {},
   "outputs": [],
   "source": [
    "m = []\n",
    "n = []\n",
    "k = []\n",
    "pattern = []\n",
    "test_string = []\n",
    "j = 0\n",
    "for i in range(10,200,10):\n",
    "    pattern.append(generate_random_strings(\"SRNG\", i))\n",
    "    # append pattern to the end of string\n",
    "    test_string.append(pattern[j] + random_string)\n",
    "    j+=1\n",
    "m,n,k = compare(test_string, pattern)"
   ]
  },
  {
   "cell_type": "code",
   "execution_count": 21,
   "metadata": {},
   "outputs": [
    {
     "data": {
      "text/plain": [
       "<matplotlib.legend.Legend at 0x7f80d6e214d0>"
      ]
     },
     "execution_count": 21,
     "metadata": {},
     "output_type": "execute_result"
    },
    {
     "data": {
      "image/png": "[encoded data removed]",
      "text/plain": [
       "<Figure size 432x288 with 1 Axes>"
      ]
     },
     "metadata": {
      "needs_background": "light"
     },
     "output_type": "display_data"
    }
   ],
   "source": [
    "plt.yscale('log')\n",
    "plt.xlabel('Pattern size')\n",
    "plt.ylabel('Running time per pattern size')\n",
    "plt.title('Running time visualization of each algorithm when the pattern is added in the beginning')\n",
    "plt.plot(I,m, color = 'b', label = 'Brute Force function')\n",
    "plt.plot(I,n, color = 'r', label = 'Boyer Moore function')\n",
    "plt.plot(I,k, color = 'g', label = 'KMP function')\n",
    "plt.legend()"
   ]
  },
  {
   "cell_type": "markdown",
   "metadata": {},
   "source": [
    "Since the pattern is added at the beginning the brute force algorithm gives us the fastest output followed by Boyer Moore and KMP algorithm."
   ]
  },
  {
   "cell_type": "markdown",
   "metadata": {},
   "source": [
    "### Case 3: When the pattern is added in the middle of the random string "
   ]
  },
  {
   "cell_type": "code",
   "execution_count": 22,
   "metadata": {},
   "outputs": [],
   "source": [
    "m = []\n",
    "n = []\n",
    "k = []\n",
    "pattern = []\n",
    "test_string = []\n",
    "j = 0\n",
    "for i in range(10,200,10):\n",
    "    pattern.append(generate_random_strings(\"SRNG\", i))\n",
    "    # append pattern to the end of string\n",
    "    test_string.append(random_string[:len(random_string)//2] + pattern[j] + random_string[len(random_string)//2:])\n",
    "    j+=1\n",
    "m,n,k = compare(test_string, pattern)"
   ]
  },
  {
   "cell_type": "code",
   "execution_count": 23,
   "metadata": {},
   "outputs": [
    {
     "data": {
      "text/plain": [
       "<matplotlib.legend.Legend at 0x7f80d7145a10>"
      ]
     },
     "execution_count": 23,
     "metadata": {},
     "output_type": "execute_result"
    },
    {
     "data": {
      "image/png": "[encoded data removed]",
      "text/plain": [
       "<Figure size 432x288 with 1 Axes>"
      ]
     },
     "metadata": {
      "needs_background": "light"
     },
     "output_type": "display_data"
    }
   ],
   "source": [
    "plt.yscale('log')\n",
    "plt.xlabel('Pattern size')\n",
    "plt.ylabel('Running time per pattern size')\n",
    "plt.title('Running time visualization of each algorithm when the pattern is added in the middle')\n",
    "plt.plot(I,m, color = 'b', label = 'Brute Force function')\n",
    "plt.plot(I,n, color = 'r', label = 'Boyer Moore function')\n",
    "plt.plot(I,k, color = 'g', label = 'KMP function')\n",
    "plt.legend()"
   ]
  },
  {
   "cell_type": "markdown",
   "metadata": {},
   "source": [
    "When the pattern is added in between the time complexity is almost same as the Case 1 and therefore we can conclude that for average case the Boyer Moore algorithm is the best and gives us the fastest output."
   ]
  },
  {
   "cell_type": "markdown",
   "metadata": {},
   "source": [
    "# Problem 3"
   ]
  },
  {
   "cell_type": "code",
   "execution_count": 24,
   "metadata": {},
   "outputs": [
    {
     "name": "stdout",
     "output_type": "stream",
     "text": [
      "Minimum Cost:  26000\n",
      "Parenthesized Product: \n",
      "((A(BC))D)"
     ]
    }
   ],
   "source": [
    "def Parenthesization(B, i, j):\n",
    "    if i == j:\n",
    "        ascii= chr(i+64)\n",
    "        print(ascii, end =\"\")\n",
    "        return\n",
    "    \n",
    "    print(\"(\", end = \"\")\n",
    "    Parenthesization(B, i, B[i][j])\n",
    "    Parenthesization(B, B[i][j]+1, j)\n",
    "    print (\")\", end = \"\" )\n",
    "\n",
    "def chainMultiply(d, i, j,B):\n",
    "    global bracket \n",
    "    if i == j:\n",
    "        return 0\n",
    " \n",
    "    minCount = float('inf')\n",
    " \n",
    "    for k in range(i, j):\n",
    "        count = (chainMultiply(d, i, k, B)\n",
    "                 + chainMultiply(d, k + 1, j, B)\n",
    "                 + d[i-1] * d[k] * d[j])\n",
    " \n",
    "        if count < minCount:\n",
    "            minCount = count\n",
    "            B[i][j] = k\n",
    "    bracket = B\n",
    "    \n",
    "    return minCount\n",
    " \n",
    "d = [40, 20, 30, 10, 30]\n",
    "size = len(d)\n",
    "B = [[0 for col in range(size)] for row in range(size)]\n",
    "\n",
    "\n",
    "print(\"Minimum Cost: \", chainMultiply(d, 1, size-1,B))\n",
    "print(\"Parenthesized Product: \") \n",
    "Parenthesization(bracket, 1,size-1)"
   ]
  },
  {
   "cell_type": "markdown",
   "metadata": {},
   "source": [
    "The code above follows the brute-force method for finding the optimal parthesized product.The brute-force approach determines all the ways in which the matrix multiplication can be parenthesized. If there are n matrices there n-1 ways of fully parenthesizing the product.\n",
    "Line 32: d is the list of dimensions of matrices such that A has a dimension of 40*20 ,B has a dimension of 20*30 ,C has a dimension of 30*10 and D has a dimension of 10*30.\n",
    "The function chainMultiply finds all the possible multiplication costs for the Matrices and prints the minimum of all costs.The index of k is stored in the matrix bracket that is passed to the parenthesization function to print the optimal parenthesized product.\n",
    "The code has a runtime of Ω(2^n) which is not efficient especially, for large values of n."
   ]
  },
  {
   "cell_type": "code",
   "execution_count": 25,
   "metadata": {},
   "outputs": [
    {
     "name": "stdout",
     "output_type": "stream",
     "text": [
      "Parenthesized product:((A(BC))D)\n",
      "\n",
      "Minimum cost: 26000\n"
     ]
    }
   ],
   "source": [
    "# REFERENCE: TEXTBOOK\n",
    "def Parenthesization(B, i, j ):\n",
    " \n",
    "    if i == j:\n",
    "        ascii= chr(i+65)\n",
    "        print(ascii, end =\"\")\n",
    "        \n",
    "    else:\n",
    "        print(\"(\", end = \"\")\n",
    "        Parenthesization(B, B[i][j] - 1, j)\n",
    "        Parenthesization(B, i, B[i][j])\n",
    "        print (\")\", end = \"\" )\n",
    "def Matmul(dim, size):\n",
    " \n",
    "  \n",
    "    A = [[0 for i in range(size)]\n",
    "            for i in range (size)]\n",
    "    B = [[0 for i in range(size)]\n",
    "            for i in range (size)]\n",
    "    for x in range (2, size + 1):\n",
    "        for i in range ((size - x) + 1):\n",
    "            j = i + x - 1\n",
    "            A[i][j] = float('Inf')\n",
    "            for k in range (i, j):\n",
    "                cost = (A[i][k] + A[k + 1][j] +\n",
    "                    (dim[i] * dim[k + 1] * dim[j + 1]));\n",
    "                if (cost < A[i][j]):\n",
    "                    A[i][j] = cost\n",
    "                    B[j][i] = k + 1\n",
    "    \n",
    "    #print(B)\n",
    "    print(\"Parenthesized product:\",end=\"\")\n",
    "    Parenthesization(B, size - 1, 0)\n",
    "    print(\"\\n\")\n",
    "    print(\"Minimum cost:\",A[0][size - 1])\n",
    "\n",
    "dimensions = [40, 20, 30, 10, 30]\n",
    "size = len(dimensions) - 1\n",
    "Matmul(dimensions, size)"
   ]
  },
  {
   "cell_type": "markdown",
   "metadata": {},
   "source": [
    "The bottom-up approach is a iterative approach unlike the brute-force(naive) method.The function Matmul stores and computes the minimum number of scalar multiplications needed to compute the product p(i) x p(i + 1) x … x p(j) in A\n",
    "The index of the matrix after which the above product is split in an optimal parenthesization is stored in S. The function parenthesization takes S as argument to determine where the brackets should be inserted."
   ]
  },
  {
   "cell_type": "markdown",
   "metadata": {},
   "source": [
    "# Problem 4"
   ]
  },
  {
   "cell_type": "code",
   "execution_count": 26,
   "metadata": {},
   "outputs": [],
   "source": [
    "#Citation from the textbook Introduction to Algorithms, Thomas H. Cormen, Clifford Stein, Charles E. Leiserson, Ronald Rivest\n",
    "def LongestCommonSubsequence(s1,s2):\n",
    "    m = len(s1)\n",
    "    n = len(s2)\n",
    "    array_lcs = [[0 for col in range(n+1)] for row in range(m+1)]\n",
    "    for i in range(m+1):\n",
    "        for j in range(n+1):\n",
    "            if i ==0 or j ==0:\n",
    "                array_lcs[i][j]= 0\n",
    "            elif s1[i-1]==s2[j-1]:\n",
    "                array_lcs[i][j] = 1 + array_lcs[i-1][j-1]\n",
    "            else:\n",
    "                array_lcs[i][j] = max(array_lcs[i][j-1],array_lcs[i-1][j])\n",
    "    \n",
    "    #print(array_lcs)\n",
    "    \n",
    "    subseq = []\n",
    "    i = 1\n",
    "    j = 1\n",
    "    while(True):\n",
    "        if array_lcs[i][j] > 0:\n",
    "            if array_lcs[i][j]  == (array_lcs[i-1][j-1]+1):\n",
    "                if array_lcs[i][j] != array_lcs[i-1][j] and array_lcs[i][j] != array_lcs[i][j-1]:\n",
    "                    subseq.append(s1[i-1])\n",
    "        if i == m and j == n:\n",
    "            break\n",
    "        elif j == n and i != m:\n",
    "            j = 1\n",
    "            i+=1\n",
    "        else:\n",
    "            j+=1\n",
    "                \n",
    "    print(\"\".join(subseq))\n",
    "    return array_lcs[m][n]\n",
    "            "
   ]
  },
  {
   "cell_type": "code",
   "execution_count": 27,
   "metadata": {},
   "outputs": [
    {
     "name": "stdout",
     "output_type": "stream",
     "text": [
      "MSLLKKHHFFIIQITTTTTTKKPPPGGGGGIIIFFGGGGNVVVVLLLLLLLSSSSSVVVVVAAAAAAAGGGGGGGFFLLLLLLLLAAAAAAASSSSSKKKGGGGGGHHHVVVVVDDDLLLLLLLLLLAAAAAAAAIIFFLLLLLLAAAAAASSSSSIIGGGGGGTTTTTSSSSLLLLLLLVVVVAAAAAAASSSSSGGGGGVVVFNIIDDDDDRRRRDDDDIDDLLLLLLLLLLLKKKEEEEEEERRRTTTTTKKKNRRVVVVLLLLLLLLLVQQQGGGGGGLLIIISSSSSSLLLLLEEEEEEVVVAAAAAAAALLLLLLLLLLVYAAAASSSSSIIILLLLLLGGGGGGVVVVAAAAAGVALLLLLLLLLYYVAAANPPPLLAAAAALLLLFAAVIIIGGGGGGVVIYYYVVGFYSSSSSLLLLLLLYYLKKKRRRRRSVHHHGGGGGTTTTTLLLLLLLVVVGGSSSSLLSGAAAAAAAPPPVVVIIIGGGGYYYVVVAAASSSSSNSFDDDDDDAAAAALLLLLLLLLTTTTLLLLVVSSLLWQQQQPPHHYAAAAAAIIIRRRRRNDDDDDDYYLLLLLLAAAASSSSSIIIPPPVVVVLLLLLPKKKRRRGGGGGGIVVVAAKKHHHIILLLLLYYYILLAAAFLLVVATTTTLLLLTSSSSSGGGGYYAAGSYLLLLVVYWLLLATTGGYKKKVDDDDDDDTAAARRRLLLLLFVSSSIIITALLSVVVSDDDFKAAPPPTTEEEEEEELLLLLLLLLTYAAAAHH\n",
      "61\n"
     ]
    }
   ],
   "source": [
    "# source : https://ftp.ncbi.nlm.nih.gov/genbank/  \n",
    "# gbbct1.seq file\n",
    "seq1 = \"MSLKHFIQITKPGIIFGNVLSVAGGFFLASKGHVDLAIFLASMIGTSLVVASGCVFNNCIDRDIDLKMERTKNRVLVQGLISLEVALVYASILGVAGVALLYYVANPLAALFAVIGFVIYVGFYSLYLKRKSVHGTLVGSLSGAMPPVIGYVAVSNSFDMAALTLLVMFSLWQMPHSYAIAIFRFNDYLAASIPVLPVKRGIRVAKKHILLYILAFLVATLMLTFSGYAGMSYLAVAAAMGMYWLYMAWTGYKAVDDTVWARKLFVFSIFTITALSVMMSVDFKAPTELLLTYAH\"\n",
    "seq2 = \"MKTLAALFGASLVALTASLAHARDLGPDEALRLRDAGTIVSFEKLNATALSRHPGASISETELEEEYGKYIYQVELRDPQGLEWDLELDAVSGQVLKDHQDT\"\n",
    "\n",
    "print(LongestCommonSubsequence(seq1,seq2))"
   ]
  },
  {
   "cell_type": "raw",
   "metadata": {},
   "source": [
    "The approach is bottom up.\n",
    "The steps to solve the longest common subsequence is as follows:\n",
    "If the two variables are same then the number of common subsequence will be diagonal's number +1 \n",
    "else the number of common subsequence will be max of left and top common subsequence number in this way the whole table can be made.\n",
    "\n",
    "Now to reterive the subsequence the number should be max of top and left and retrieve it else move to the number which is max and if the number of subsequence is equal then move to either top or left "
   ]
  },
  {
   "cell_type": "code",
   "execution_count": null,
   "metadata": {},
   "outputs": [],
   "source": []
  }
 ],
 "metadata": {
  "kernelspec": {
   "display_name": "Python 3",
   "language": "python",
   "name": "python3"
  },
  "language_info": {
   "codemirror_mode": {
    "name": "ipython",
    "version": 3
   },
   "file_extension": ".py",
   "mimetype": "text/x-python",
   "name": "python",
   "nbconvert_exporter": "python",
   "pygments_lexer": "ipython3",
   "version": "3.7.6"
  }
 },
 "nbformat": 4,
 "nbformat_minor": 4
}
